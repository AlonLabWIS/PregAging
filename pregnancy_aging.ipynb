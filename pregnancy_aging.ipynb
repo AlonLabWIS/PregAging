{
 "cells": [
  {
   "metadata": {
    "ExecuteTime": {
     "end_time": "2025-03-18T12:33:19.036394Z",
     "start_time": "2025-03-18T12:33:18.994121Z"
    }
   },
   "cell_type": "code",
   "source": [
    "%load_ext autoreload\n",
    "%autoreload 2"
   ],
   "id": "e8e8c8fdbad1b942",
   "outputs": [],
   "execution_count": 1
  },
  {
   "cell_type": "code",
   "id": "initial_id",
   "metadata": {
    "ExecuteTime": {
     "end_time": "2025-03-18T12:33:19.928603Z",
     "start_time": "2025-03-18T12:33:19.039897Z"
    }
   },
   "source": [
    "from src.preg_aging.cached_reader import get_tests\n",
    "import os\n",
    "import matplotlib.pyplot as plt\n",
    "import pandas as pd\n",
    "\n",
    "plt.rcParams['svg.fonttype'] = 'none'\n",
    "plt.rcParams[\"font.size\"] = 14\n",
    "plt.rcParams[\"ytick.labelsize\"] = 12\n",
    "plt.rcParams[\"xtick.labelsize\"] = 12"
   ],
   "outputs": [],
   "execution_count": 2
  },
  {
   "cell_type": "code",
   "id": "ec0ee85dcaa24c13",
   "metadata": {
    "ExecuteTime": {
     "end_time": "2025-03-18T12:33:20.162836Z",
     "start_time": "2025-03-18T12:33:20.101192Z"
    }
   },
   "source": "tests = get_tests(remove_urine=True, remove_percent=True, remove_pct=True)",
   "outputs": [],
   "execution_count": 3
  },
  {
   "metadata": {
    "ExecuteTime": {
     "end_time": "2025-03-18T12:33:20.240735Z",
     "start_time": "2025-03-18T12:33:20.181208Z"
    }
   },
   "cell_type": "code",
   "source": [
    "from src.preg_aging.clalit_parser import group_tests\n",
    "\n",
    "test_groups = group_tests(tests)"
   ],
   "id": "f7af1b90a5849fe9",
   "outputs": [],
   "execution_count": 4
  },
  {
   "metadata": {},
   "cell_type": "markdown",
   "source": "## Quantile change histogram",
   "id": "6387be698203601"
  },
  {
   "metadata": {},
   "cell_type": "code",
   "outputs": [],
   "execution_count": null,
   "source": [
    "from src.preg_aging.plotting import plot_quantile_diffs_histogram\n",
    "fig = plot_quantile_diffs_histogram(tests, bins=10)\n",
    "fig.set_size_inches(7, 5)\n",
    "# fig.savefig(os.path.join(\"graphs\", \"Quantile change histogram.svg\"))"
   ],
   "id": "7942e0636821d46"
  },
  {
   "metadata": {},
   "cell_type": "markdown",
   "source": "## Quartile graphs - change in pregnancy vs. change in aging per system (quantiles)",
   "id": "646fa053eb865c8c"
  },
  {
   "metadata": {},
   "cell_type": "code",
   "outputs": [],
   "execution_count": null,
   "source": [
    "from src.preg_aging.plotting import plot_diff_grid\n",
    "age_ref = [20, 80]\n",
    "fig_preg = plot_diff_grid(test_groups, labnorm_age_ref=age_ref, test_period=(-40, -2))\n",
    "fig_preg.tight_layout()\n",
    "#fig_preg.savefig(os.path.join(\"graphs\", f\"quantile diff, preg_labnorm{str(age_ref)}.svg\"))"
   ],
   "id": "7b2a04c36fbdc94e"
  },
  {
   "metadata": {},
   "cell_type": "markdown",
   "source": "## Regression training and QA",
   "id": "c6a7c60f32ed2900"
  },
  {
   "metadata": {
    "ExecuteTime": {
     "end_time": "2025-03-18T12:33:40.551533Z",
     "start_time": "2025-03-18T12:33:29.070914Z"
    }
   },
   "cell_type": "code",
   "source": [
    "from src.preg_aging.cached_reader import get_tests\n",
    "from statsmodels.regression.linear_model import OLS\n",
    "from statsmodels.tools import add_constant\n",
    "from src.preg_aging.sample_dataset import resample_per_age, normalize_by_sub_div\n",
    "tests = get_tests(remove_urine=True, remove_percent=True, remove_pct=True)\n",
    "complication_tests = get_tests(True, True, True, os.path.join(\"csvs\", \"tests_complications.json\"))\n",
    "regression, age = resample_per_age(tests, num_samples_per_age=200)#, range_to_fac={(20,36): 4, (36,71): 1, (71, 100): 3})\n",
    "normalized_reg = normalize_by_sub_div(regression)\n",
    "model = OLS(age, add_constant(regression)).fit()\n",
    "norm_model = OLS(age, add_constant(normalized_reg)).fit()\n",
    "comp_reg, comp_age = resample_per_age(complication_tests, num_samples_per_age=200)#, range_to_fac={(20,36): 4, (36,71): 1, (71, 100): 3})\n",
    "comp_model = OLS(comp_age, add_constant(comp_reg)).fit()"
   ],
   "id": "6ae5e758e0fc8f8c",
   "outputs": [],
   "execution_count": 7
  },
  {
   "metadata": {},
   "cell_type": "markdown",
   "source": "### Error exploration",
   "id": "cacbc699bda30859"
  },
  {
   "metadata": {},
   "cell_type": "code",
   "outputs": [],
   "execution_count": null,
   "source": [
    "from src.preg_aging.plotting import plot_model_weights\n",
    "color_map = {'Immune': '#1f77b4', \"Metabolism\": '#ff7f0e', \"Thyroid\": '#2ca02c', \"RBCs\": '#d62728', \"Coagulation\": '#9467bd', \"Liver\": '#8c564b', \"Renal\": '#e377c2', \"Musculoskeletal\": '#7f7f7f', \"Iron\": '#bcbd22'}\n",
    "f = plot_model_weights(test_groups, norm_model, color_map, 4, (-2.5,4.))\n",
    "# f.savefig(os.path.join(\"graphs\", \"model_weights.svg\"))\n",
    "# f.savefig(os.path.join(\"graphs\", \"model_weights.png\"), dpi=150)"
   ],
   "id": "a12b1c945827f5f4"
  },
  {
   "metadata": {},
   "cell_type": "markdown",
   "source": "## Regression predictions",
   "id": "15a14abcdf7d294"
  },
  {
   "metadata": {},
   "cell_type": "code",
   "outputs": [],
   "execution_count": null,
   "source": [
    "from src.preg_aging.plotting import plot_groups_linear_prediction\n",
    "plt.clf()\n",
    "test_groups_rbc_comp = test_groups.copy()\n",
    "fig = plot_groups_linear_prediction(test_groups, model.params, skip_range=(-1., 1.), colormap=\"brg\")\n",
    "plt.tight_layout()\n",
    "# fig.savefig(os.path.join(\"graphs\", \"system_by_system_prediction.svg\"))"
   ],
   "id": "1ca6bb28ad9282bd"
  },
  {
   "metadata": {},
   "cell_type": "code",
   "outputs": [],
   "execution_count": null,
   "source": [
    "from src.preg_aging.plotting import plot_age_acceleration_by_lin_reg\n",
    "fig = plot_age_acceleration_by_lin_reg(comp_model,\n",
    "                                       [r\".\\csvs\\pregnancy.pre-eclampsia.4w\",\n",
    "                                        r\".\\csvs\\pregnancy.gdm.4w\",\n",
    "                                        r\".\\csvs\\pregnancy.postpartum_hemorrhage.4w\"],\n",
    "                                       r\".\\csvs\\pregnancy.4w\",\n",
    "                                       exclude_points=[2], compared_color_map={r\"pre-eclampsia\": \"navy\",\n",
    "                                                                               \"gdm\": \"chocolate\",\n",
    "                                                                               \"PPH\": \"darkviolet\"},\n",
    "                                       p_val_bins=[-58, -38, -26, -13, 0, 30, 78], use_fill=True, y_limit=(-7., 15.),\n",
    "                                       y_ticks=[-5, 0, 5, 10, 15], fix_outliers=True)\n",
    "\n",
    "# fig.savefig(os.path.join(\"graphs\", \"age_acceleration_comp_5_diff.svg\"))\n"
   ],
   "id": "de91393e79743d8b"
  },
  {
   "metadata": {},
   "cell_type": "code",
   "outputs": [],
   "execution_count": null,
   "source": [
    "from src.preg_aging.plotting import plot_model_prediction\n",
    "from src.preg_aging.clalit_parser import get_clalit_data\n",
    "f, ax = plot_model_prediction(model, fix_outliers=True, use_fill=True, label=\"Corrected\")\n",
    "plot_model_prediction(model, use_fill=True, ax=ax, label=\"Uncorrected\", alpha=0.2)\n",
    "pred_median = add_constant(pd.DataFrame({test: get_clalit_data(test)[\"val_50\"] for test in tests})) @ model.params\n",
    "pred_median -= pred_median.loc[-60:-40].mean()\n",
    "ax.plot(pred_median.index, pred_median.values, label=\"median\")\n",
    "ax.legend()\n",
    "# f.savefig(os.path.join(\"graphs\", \"pregnancy_pred_full.svg\"))\n",
    "display(f)\n",
    "####\n",
    "plt.clf()\n",
    "f, ax = plot_model_prediction(model, fix_outliers=True, use_fill=True)\n",
    "# f.savefig(os.path.join(\"graphs\", \"pregnancy_pred.svg\"))"
   ],
   "id": "f5f877fc50ca3d45"
  },
  {
   "metadata": {},
   "cell_type": "code",
   "outputs": [],
   "execution_count": null,
   "source": [
    "from src.preg_aging.plotting import plot_diff_grid_pathologies\n",
    "complications_group = group_tests(complication_tests)\n",
    "fig = plot_diff_grid_pathologies(complications_group,\n",
    "                                 r\".\\csvs\\pregnancy.pre-eclampsia.4w\",\n",
    "                                 r\".\\csvs\\pregnancy.4w\", color=\"navy\")\n",
    "plt.tight_layout()\n",
    "# fig.savefig(os.path.join(\"graphs\", \"quantile diff, preecl.svg\"))\n",
    "\n",
    "fig = plot_diff_grid_pathologies(complications_group, r\".\\csvs\\pregnancy.gdm.4w\",\n",
    "                                 r\".\\csvs\\pregnancy.4w\", color=\"chocolate\")\n",
    "plt.tight_layout()\n",
    "# fig.savefig(os.path.join(\"graphs\", \"quantile diff, gdm.svg\"))\n",
    "\n",
    "fig = plot_diff_grid_pathologies(complications_group,\n",
    "                                 r\".\\csvs\\pregnancy.postpartum_hemorrhage.4w\",\n",
    "                                 r\".\\csvs\\pregnancy.4w\", color=\"darkviolet\")\n",
    "plt.tight_layout()\n",
    "# fig.savefig(os.path.join(\"graphs\", \"quantile diff, pph.svg\"))"
   ],
   "id": "33c5c04a7c53f8f3"
  },
  {
   "metadata": {},
   "cell_type": "markdown",
   "source": "## Regression weight visualization",
   "id": "ab964566590b8c6"
  },
  {
   "metadata": {},
   "cell_type": "code",
   "outputs": [],
   "execution_count": null,
   "source": [
    "from src.preg_aging.plotting import plot_diff_grid_model_weights\n",
    "_ = plot_diff_grid_model_weights(test_groups, norm_model)"
   ],
   "id": "4d7c917363f61005"
  },
  {
   "metadata": {},
   "cell_type": "markdown",
   "source": "## Check high varaince",
   "id": "a4fbcdf16c122722"
  },
  {
   "metadata": {},
   "cell_type": "code",
   "outputs": [],
   "execution_count": null,
   "source": [
    "from src.preg_aging.clalit_parser import get_clalit_data\n",
    "import pandas as pd\n",
    "s = pd.Series(data=-1, index=tests, dtype=float, name=\"SEM ratio\")\n",
    "for t in tests:\n",
    "    df = get_clalit_data(t)\n",
    "    df = df.loc[~df.index.isin([-0.5, 0.5])]\n",
    "    sem = df[\"val_sd\"] / df[\"val_n\"] ** 0.5\n",
    "    s.loc[t] = sem.max() / sem.median()\n",
    "(s  * 1).sort_values(ascending=False, key=abs)"
   ],
   "id": "7ca6f73b96646605"
  }
 ],
 "metadata": {
  "kernelspec": {
   "display_name": "Python 3 (ipykernel)",
   "language": "python",
   "name": "python3"
  },
  "language_info": {
   "codemirror_mode": {
    "name": "ipython",
    "version": 3
   },
   "file_extension": ".py",
   "mimetype": "text/x-python",
   "name": "python",
   "nbconvert_exporter": "python",
   "pygments_lexer": "ipython3",
   "version": "3.9.19"
  }
 },
 "nbformat": 4,
 "nbformat_minor": 5
}
